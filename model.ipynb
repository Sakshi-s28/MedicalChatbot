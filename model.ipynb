{
 "cells": [
  {
   "cell_type": "code",
   "execution_count": 15,
   "metadata": {},
   "outputs": [],
   "source": [
    "from langchain.prompts import PromptTemplate\n",
    "from langchain.embeddings import HuggingFaceBgeEmbeddings\n",
    "from langchain.vectorstores import FAISS\n",
    "from langchain.llms import CTransformers\n",
    "from langchain.chains import RetrievalQA\n",
    "import chainlit as cl"
   ]
  },
  {
   "cell_type": "code",
   "execution_count": 16,
   "metadata": {},
   "outputs": [],
   "source": [
    "db_faiss_path = \"vectorstores/db_faiss\"\n"
   ]
  },
  {
   "cell_type": "code",
   "execution_count": 17,
   "metadata": {},
   "outputs": [],
   "source": [
    "custom_propmt_template = \"\"\"\n",
    "Use the following pieces of information to answet the user's question.\n",
    "If you don't know the answer, please just say that you don't know the answer, don't try to make up an answer.\n",
    "\n",
    "Context: {}\n",
    "Questions: {question}\n",
    "\n",
    "Only returns the helpful answer below and nothing else.\n",
    "Helpful answer:\n",
    "\"\"\""
   ]
  },
  {
   "cell_type": "code",
   "execution_count": 18,
   "metadata": {},
   "outputs": [],
   "source": [
    "def set_custom_propmt():\n",
    "    \"\"\"\n",
    "    Propmt template for QA retrieval for each vector stores\n",
    "    \"\"\"\n",
    "    prompt = PromptTemplate(template=custom_propmt_template, imput_variables=['context',\n",
    "                                                                              'question'])\n",
    "    return prompt"
   ]
  },
  {
   "cell_type": "code",
   "execution_count": 20,
   "metadata": {},
   "outputs": [],
   "source": [
    "def load_llm():\n",
    "    llm = CTransformers(\n",
    "        model =\"llama-2-7b-chat.ggmlv3.q4_1.bin\",\n",
    "        model_type = \"llama\",\n",
    "        max_new_tokens = 512,\n",
    "        temperature = 0.5\n",
    "    )\n",
    "    return llm"
   ]
  },
  {
   "cell_type": "code",
   "execution_count": 21,
   "metadata": {},
   "outputs": [],
   "source": [
    "def retrieval_qa_chain(llm,propmt,db):\n",
    "    qa_chain = RetrievalQA.from_chain_type(\n",
    "        llm = llm,\n",
    "        chain_type = \"stuff\",\n",
    "        retriever = db.as_retriever(search_kwargs ={'k':2}),\n",
    "        return_source_documents = True,\n",
    "        chain_type_kwargs = {'propmt':prompt}\n",
    "\n",
    "    )\n",
    "    return qa_chain"
   ]
  },
  {
   "cell_type": "code",
   "execution_count": 22,
   "metadata": {},
   "outputs": [],
   "source": [
    "def qa_bot():\n",
    "    embeddings = HuggingFaceBgeEmbeddings(model_name='sentence-transformers/all-MINILM-L6-v2',\n",
    "                                          model_kwargs={'device':'cpu'})\n",
    "    db = FAISS.load_local(db_faiss_path, embeddings)\n",
    "    llm = load_llm()\n",
    "    qa_prompt = set_custom_propmt()\n",
    "    qa = retrieval_qa_chain(llm, qa_prompt, db)\n",
    "\n",
    "    return qa\n",
    "    "
   ]
  },
  {
   "cell_type": "code",
   "execution_count": 23,
   "metadata": {},
   "outputs": [],
   "source": [
    "def final_result(query):\n",
    "    qa_result = qa_bot()\n",
    "    response = qa_result({'query':query})\n",
    "    return response"
   ]
  },
  {
   "cell_type": "markdown",
   "metadata": {},
   "source": [
    "Chainlit code"
   ]
  },
  {
   "cell_type": "code",
   "execution_count": 24,
   "metadata": {},
   "outputs": [],
   "source": [
    "@cl.on_chat_start\n",
    "async def start():\n",
    "    chain = qa_bot()\n",
    "    msg = cl.Message(content= \"Starting the bot ....\")\n",
    "    await msg.send()\n",
    "    msg.content = \"Hi, welcome to the bot. Type your query.\"\n",
    "    await msg.update()\n",
    "    cl.user_session.set(\"chain\", chain)\n",
    "\n",
    "\n",
    "@cl.on_message\n",
    "async def main(message):\n",
    "    chain = cl.user_session.get(\"chain\")\n",
    "    cb = cl.AsyncLangchainCallbackHandler(\n",
    "        stream_final_answer= True, answer_prefix_tokens=\n",
    "        [\"FINAL\", \"ANSWER\"] )\n",
    "    cb.answer_reached = True\n",
    "    res = await chain.acall(message, callbacks = [cb])\n",
    "    answer = res[\"result\"]\n",
    "    sources = res[\"source_documents\"]\n",
    "\n",
    "    if sources:\n",
    "        answer += f\"\\nSources\" + str(sources)\n",
    "\n",
    "    else:\n",
    "        answer += f\"\\nNo Sources found\"\n",
    "\n",
    "    await cl.Message(content = answer).send()"
   ]
  },
  {
   "cell_type": "code",
   "execution_count": null,
   "metadata": {},
   "outputs": [],
   "source": []
  }
 ],
 "metadata": {
  "kernelspec": {
   "display_name": "mchatbot",
   "language": "python",
   "name": "python3"
  },
  "language_info": {
   "codemirror_mode": {
    "name": "ipython",
    "version": 3
   },
   "file_extension": ".py",
   "mimetype": "text/x-python",
   "name": "python",
   "nbconvert_exporter": "python",
   "pygments_lexer": "ipython3",
   "version": "3.8.20"
  }
 },
 "nbformat": 4,
 "nbformat_minor": 2
}
